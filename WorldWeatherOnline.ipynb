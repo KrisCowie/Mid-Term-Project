{
 "cells": [
  {
   "cell_type": "code",
   "execution_count": 2,
   "metadata": {},
   "outputs": [],
   "source": [
    "from wwo_hist import retrieve_hist_data\n",
    "import os"
   ]
  },
  {
   "cell_type": "code",
   "execution_count": 5,
   "metadata": {},
   "outputs": [
    {
     "name": "stdout",
     "output_type": "stream",
     "text": [
      "\n",
      "\n",
      "Retrieving weather data for EWR\n",
      "\n",
      "\n",
      "Currently retrieving data for EWR: from 2018-01-01 to 2018-01-31\n",
      "Time elapsed (hh:mm:ss.ms) 0:00:01.387886\n",
      "Currently retrieving data for EWR: from 2018-02-01 to 2018-02-28\n",
      "Time elapsed (hh:mm:ss.ms) 0:00:02.508503\n",
      "Currently retrieving data for EWR: from 2018-03-01 to 2018-03-31\n",
      "Time elapsed (hh:mm:ss.ms) 0:00:03.639346\n",
      "\n",
      "\n",
      "export EWR completed!\n",
      "\n",
      "\n",
      "\n",
      "\n",
      "Retrieving weather data for ORD\n",
      "\n",
      "\n",
      "Currently retrieving data for ORD: from 2018-01-01 to 2018-01-31\n",
      "Time elapsed (hh:mm:ss.ms) 0:00:01.140533\n",
      "Currently retrieving data for ORD: from 2018-02-01 to 2018-02-28\n",
      "Time elapsed (hh:mm:ss.ms) 0:00:02.314760\n",
      "Currently retrieving data for ORD: from 2018-03-01 to 2018-03-31\n",
      "Time elapsed (hh:mm:ss.ms) 0:00:03.588484\n",
      "\n",
      "\n",
      "export ORD completed!\n",
      "\n",
      "\n",
      "\n",
      "\n",
      "Retrieving weather data for SFO\n",
      "\n",
      "\n",
      "Currently retrieving data for SFO: from 2018-01-01 to 2018-01-31\n",
      "Time elapsed (hh:mm:ss.ms) 0:00:01.211337\n",
      "Currently retrieving data for SFO: from 2018-02-01 to 2018-02-28\n",
      "Time elapsed (hh:mm:ss.ms) 0:00:02.373868\n",
      "Currently retrieving data for SFO: from 2018-03-01 to 2018-03-31\n",
      "Time elapsed (hh:mm:ss.ms) 0:00:03.474428\n",
      "\n",
      "\n",
      "export SFO completed!\n",
      "\n",
      "\n"
     ]
    }
   ],
   "source": [
    "FREQUENCY = 3\n",
    "START_DATE = '01-JAN-2018'\n",
    "END_DATE = '31-MAR-2018'\n",
    "API_KEY = '333aeaa0c4034d7a90d04031202110'\n",
    "LOCATION_LIST = ['EWR', 'ORD', 'SFO']\n",
    "hist_weather_data = retrieve_hist_data(API_KEY,\n",
    "                                      LOCATION_LIST,\n",
    "                                      START_DATE,\n",
    "                                      END_DATE,\n",
    "                                      FREQUENCY,\n",
    "                                      location_label = False,\n",
    "                                      export_csv = True,\n",
    "                                      store_df = True)"
   ]
  },
  {
   "cell_type": "code",
   "execution_count": null,
   "metadata": {},
   "outputs": [],
   "source": []
  }
 ],
 "metadata": {
  "kernelspec": {
   "display_name": "Python 3",
   "language": "python",
   "name": "python3"
  },
  "language_info": {
   "codemirror_mode": {
    "name": "ipython",
    "version": 3
   },
   "file_extension": ".py",
   "mimetype": "text/x-python",
   "name": "python",
   "nbconvert_exporter": "python",
   "pygments_lexer": "ipython3",
   "version": "3.8.3"
  }
 },
 "nbformat": 4,
 "nbformat_minor": 4
}
