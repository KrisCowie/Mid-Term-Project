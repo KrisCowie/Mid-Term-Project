{
 "cells": [
  {
   "cell_type": "markdown",
   "metadata": {},
   "source": [
    "## Importing the various packages we'll require"
   ]
  },
  {
   "cell_type": "code",
   "execution_count": 70,
   "metadata": {},
   "outputs": [
    {
     "name": "stderr",
     "output_type": "stream",
     "text": [
      "C:\\Users\\Kristopher\\anaconda3\\lib\\site-packages\\IPython\\core\\interactiveshell.py:3145: DtypeWarning: Columns (25) have mixed types.Specify dtype option on import or set low_memory=False.\n",
      "  has_raised = await self.run_ast_nodes(code_ast.body, cell_name,\n"
     ]
    }
   ],
   "source": [
    "import pandas as pd\n",
    "import numpy as np\n",
    "import datetime\n",
    "df = pd.read_csv(\"sampled_flights_total.csv\")"
   ]
  },
  {
   "cell_type": "markdown",
   "metadata": {},
   "source": [
    "#### Quick rundown of the dtypes we're working with "
   ]
  },
  {
   "cell_type": "code",
   "execution_count": 71,
   "metadata": {},
   "outputs": [
    {
     "name": "stdout",
     "output_type": "stream",
     "text": [
      "<class 'pandas.core.frame.DataFrame'>\n",
      "RangeIndex: 1997830 entries, 0 to 1997829\n",
      "Data columns (total 42 columns):\n",
      " #   Column               Dtype  \n",
      "---  ------               -----  \n",
      " 0   fl_date              object \n",
      " 1   mkt_unique_carrier   object \n",
      " 2   branded_code_share   object \n",
      " 3   mkt_carrier          object \n",
      " 4   mkt_carrier_fl_num   int64  \n",
      " 5   op_unique_carrier    object \n",
      " 6   tail_num             object \n",
      " 7   op_carrier_fl_num    int64  \n",
      " 8   origin_airport_id    int64  \n",
      " 9   origin               object \n",
      " 10  origin_city_name     object \n",
      " 11  dest_airport_id      int64  \n",
      " 12  dest                 object \n",
      " 13  dest_city_name       object \n",
      " 14  crs_dep_time         int64  \n",
      " 15  dep_time             float64\n",
      " 16  dep_delay            float64\n",
      " 17  taxi_out             float64\n",
      " 18  wheels_off           float64\n",
      " 19  wheels_on            float64\n",
      " 20  taxi_in              float64\n",
      " 21  crs_arr_time         int64  \n",
      " 22  arr_time             float64\n",
      " 23  arr_delay            float64\n",
      " 24  cancelled            float64\n",
      " 25  cancellation_code    object \n",
      " 26  diverted             float64\n",
      " 27  dup                  object \n",
      " 28  crs_elapsed_time     float64\n",
      " 29  actual_elapsed_time  float64\n",
      " 30  air_time             float64\n",
      " 31  flights              float64\n",
      " 32  distance             float64\n",
      " 33  carrier_delay        float64\n",
      " 34  weather_delay        float64\n",
      " 35  nas_delay            float64\n",
      " 36  security_delay       float64\n",
      " 37  late_aircraft_delay  float64\n",
      " 38  first_dep_time       float64\n",
      " 39  total_add_gtime      float64\n",
      " 40  longest_add_gtime    float64\n",
      " 41  no_name              float64\n",
      "dtypes: float64(24), int64(6), object(12)\n",
      "memory usage: 640.2+ MB\n"
     ]
    }
   ],
   "source": [
    "df.info()"
   ]
  },
  {
   "cell_type": "code",
   "execution_count": 72,
   "metadata": {},
   "outputs": [],
   "source": [
    "df['dep_delay'].replace('', np.nan, inplace=True)"
   ]
  },
  {
   "cell_type": "code",
   "execution_count": 73,
   "metadata": {},
   "outputs": [
    {
     "data": {
      "text/plain": [
       "0.01677820435172162"
      ]
     },
     "execution_count": 73,
     "metadata": {},
     "output_type": "execute_result"
    }
   ],
   "source": [
    "df['dep_delay'].isna().mean()"
   ]
  },
  {
   "cell_type": "markdown",
   "metadata": {},
   "source": [
    "- About 1.67% of our values are empty - these flights were cancelled, so we'll drop them for this analysis"
   ]
  },
  {
   "cell_type": "code",
   "execution_count": 74,
   "metadata": {},
   "outputs": [],
   "source": [
    "df.dropna(subset=['dep_delay'], inplace=True)"
   ]
  },
  {
   "cell_type": "code",
   "execution_count": 75,
   "metadata": {},
   "outputs": [
    {
     "name": "stdout",
     "output_type": "stream",
     "text": [
      "<class 'pandas.core.frame.DataFrame'>\n",
      "Int64Index: 1964310 entries, 0 to 1997829\n",
      "Data columns (total 42 columns):\n",
      " #   Column               Dtype  \n",
      "---  ------               -----  \n",
      " 0   fl_date              object \n",
      " 1   mkt_unique_carrier   object \n",
      " 2   branded_code_share   object \n",
      " 3   mkt_carrier          object \n",
      " 4   mkt_carrier_fl_num   int64  \n",
      " 5   op_unique_carrier    object \n",
      " 6   tail_num             object \n",
      " 7   op_carrier_fl_num    int64  \n",
      " 8   origin_airport_id    int64  \n",
      " 9   origin               object \n",
      " 10  origin_city_name     object \n",
      " 11  dest_airport_id      int64  \n",
      " 12  dest                 object \n",
      " 13  dest_city_name       object \n",
      " 14  crs_dep_time         int64  \n",
      " 15  dep_time             float64\n",
      " 16  dep_delay            float64\n",
      " 17  taxi_out             float64\n",
      " 18  wheels_off           float64\n",
      " 19  wheels_on            float64\n",
      " 20  taxi_in              float64\n",
      " 21  crs_arr_time         int64  \n",
      " 22  arr_time             float64\n",
      " 23  arr_delay            float64\n",
      " 24  cancelled            float64\n",
      " 25  cancellation_code    object \n",
      " 26  diverted             float64\n",
      " 27  dup                  object \n",
      " 28  crs_elapsed_time     float64\n",
      " 29  actual_elapsed_time  float64\n",
      " 30  air_time             float64\n",
      " 31  flights              float64\n",
      " 32  distance             float64\n",
      " 33  carrier_delay        float64\n",
      " 34  weather_delay        float64\n",
      " 35  nas_delay            float64\n",
      " 36  security_delay       float64\n",
      " 37  late_aircraft_delay  float64\n",
      " 38  first_dep_time       float64\n",
      " 39  total_add_gtime      float64\n",
      " 40  longest_add_gtime    float64\n",
      " 41  no_name              float64\n",
      "dtypes: float64(24), int64(6), object(12)\n",
      "memory usage: 644.4+ MB\n"
     ]
    }
   ],
   "source": [
    "df.info()"
   ]
  },
  {
   "cell_type": "code",
   "execution_count": null,
   "metadata": {},
   "outputs": [],
   "source": []
  },
  {
   "cell_type": "markdown",
   "metadata": {},
   "source": [
    "#### Creating a column titled \"total_delay\"\n",
    "\n",
    "##### - This is a the difference between departure delay, and arrival delay"
   ]
  },
  {
   "cell_type": "code",
   "execution_count": 76,
   "metadata": {},
   "outputs": [
    {
     "data": {
      "text/html": [
       "<div>\n",
       "<style scoped>\n",
       "    .dataframe tbody tr th:only-of-type {\n",
       "        vertical-align: middle;\n",
       "    }\n",
       "\n",
       "    .dataframe tbody tr th {\n",
       "        vertical-align: top;\n",
       "    }\n",
       "\n",
       "    .dataframe thead th {\n",
       "        text-align: right;\n",
       "    }\n",
       "</style>\n",
       "<table border=\"1\" class=\"dataframe\">\n",
       "  <thead>\n",
       "    <tr style=\"text-align: right;\">\n",
       "      <th></th>\n",
       "      <th>fl_date</th>\n",
       "      <th>mkt_unique_carrier</th>\n",
       "      <th>branded_code_share</th>\n",
       "      <th>mkt_carrier</th>\n",
       "      <th>mkt_carrier_fl_num</th>\n",
       "      <th>op_unique_carrier</th>\n",
       "      <th>tail_num</th>\n",
       "      <th>op_carrier_fl_num</th>\n",
       "      <th>origin_airport_id</th>\n",
       "      <th>origin</th>\n",
       "      <th>...</th>\n",
       "      <th>carrier_delay</th>\n",
       "      <th>weather_delay</th>\n",
       "      <th>nas_delay</th>\n",
       "      <th>security_delay</th>\n",
       "      <th>late_aircraft_delay</th>\n",
       "      <th>first_dep_time</th>\n",
       "      <th>total_add_gtime</th>\n",
       "      <th>longest_add_gtime</th>\n",
       "      <th>no_name</th>\n",
       "      <th>total_delay</th>\n",
       "    </tr>\n",
       "  </thead>\n",
       "  <tbody>\n",
       "    <tr>\n",
       "      <th>0</th>\n",
       "      <td>2019-11-11</td>\n",
       "      <td>WN</td>\n",
       "      <td>WN</td>\n",
       "      <td>WN</td>\n",
       "      <td>410</td>\n",
       "      <td>WN</td>\n",
       "      <td>N7842A</td>\n",
       "      <td>410</td>\n",
       "      <td>13495</td>\n",
       "      <td>MSY</td>\n",
       "      <td>...</td>\n",
       "      <td>NaN</td>\n",
       "      <td>NaN</td>\n",
       "      <td>NaN</td>\n",
       "      <td>NaN</td>\n",
       "      <td>NaN</td>\n",
       "      <td>NaN</td>\n",
       "      <td>NaN</td>\n",
       "      <td>NaN</td>\n",
       "      <td>NaN</td>\n",
       "      <td>10.0</td>\n",
       "    </tr>\n",
       "    <tr>\n",
       "      <th>1</th>\n",
       "      <td>2019-11-11</td>\n",
       "      <td>WN</td>\n",
       "      <td>WN</td>\n",
       "      <td>WN</td>\n",
       "      <td>2149</td>\n",
       "      <td>WN</td>\n",
       "      <td>N420WN</td>\n",
       "      <td>2149</td>\n",
       "      <td>13495</td>\n",
       "      <td>MSY</td>\n",
       "      <td>...</td>\n",
       "      <td>NaN</td>\n",
       "      <td>NaN</td>\n",
       "      <td>NaN</td>\n",
       "      <td>NaN</td>\n",
       "      <td>NaN</td>\n",
       "      <td>NaN</td>\n",
       "      <td>NaN</td>\n",
       "      <td>NaN</td>\n",
       "      <td>NaN</td>\n",
       "      <td>10.0</td>\n",
       "    </tr>\n",
       "  </tbody>\n",
       "</table>\n",
       "<p>2 rows × 43 columns</p>\n",
       "</div>"
      ],
      "text/plain": [
       "      fl_date mkt_unique_carrier branded_code_share mkt_carrier  \\\n",
       "0  2019-11-11                 WN                 WN          WN   \n",
       "1  2019-11-11                 WN                 WN          WN   \n",
       "\n",
       "   mkt_carrier_fl_num op_unique_carrier tail_num  op_carrier_fl_num  \\\n",
       "0                 410                WN   N7842A                410   \n",
       "1                2149                WN   N420WN               2149   \n",
       "\n",
       "   origin_airport_id origin  ... carrier_delay  weather_delay nas_delay  \\\n",
       "0              13495    MSY  ...           NaN            NaN       NaN   \n",
       "1              13495    MSY  ...           NaN            NaN       NaN   \n",
       "\n",
       "  security_delay  late_aircraft_delay  first_dep_time  total_add_gtime  \\\n",
       "0            NaN                  NaN             NaN              NaN   \n",
       "1            NaN                  NaN             NaN              NaN   \n",
       "\n",
       "   longest_add_gtime  no_name  total_delay  \n",
       "0                NaN      NaN         10.0  \n",
       "1                NaN      NaN         10.0  \n",
       "\n",
       "[2 rows x 43 columns]"
      ]
     },
     "execution_count": 76,
     "metadata": {},
     "output_type": "execute_result"
    }
   ],
   "source": [
    "df['total_delay'] = df['dep_delay'] - df['arr_delay']\n",
    "df.head(2)"
   ]
  },
  {
   "cell_type": "markdown",
   "metadata": {},
   "source": [
    "#### There's no real outliers with this data unfortunately, except maybe values above and below 450 minutes in total delay.\n",
    "\n",
    "#### - We'll remove those initially for this exploratory analysis"
   ]
  },
  {
   "cell_type": "code",
   "execution_count": 77,
   "metadata": {},
   "outputs": [
    {
     "data": {
      "image/png": "[encoded data removed]",
      "text/plain": [
       "<Figure size 432x288 with 1 Axes>"
      ]
     },
     "metadata": {
      "needs_background": "light"
     },
     "output_type": "display_data"
    }
   ],
   "source": [
    "boxplot = df.boxplot(column=['dep_delay', 'arr_delay', 'total_delay'])\n"
   ]
  },
  {
   "cell_type": "code",
   "execution_count": 92,
   "metadata": {},
   "outputs": [],
   "source": [
    "indexNames = df[df['total_delay'] <= -350].index\n",
    "indexNames1 = df[df['total_delay'] >=350].index"
   ]
  },
  {
   "cell_type": "code",
   "execution_count": 93,
   "metadata": {},
   "outputs": [
    {
     "name": "stdout",
     "output_type": "stream",
     "text": [
      "Int64Index([262756], dtype='int64') Int64Index([491871, 864683, 1716700], dtype='int64')\n"
     ]
    }
   ],
   "source": [
    "print(indexNames, indexNames1)"
   ]
  },
  {
   "cell_type": "code",
   "execution_count": 94,
   "metadata": {},
   "outputs": [],
   "source": [
    "df.drop(indexNames, inplace=True)"
   ]
  },
  {
   "cell_type": "code",
   "execution_count": 96,
   "metadata": {},
   "outputs": [],
   "source": [
    "df.drop(indexNames1, inplace=True)"
   ]
  },
  {
   "cell_type": "code",
   "execution_count": 97,
   "metadata": {},
   "outputs": [
    {
     "name": "stdout",
     "output_type": "stream",
     "text": [
      "<class 'pandas.core.frame.DataFrame'>\n",
      "Int64Index: 1964306 entries, 0 to 1997829\n",
      "Data columns (total 43 columns):\n",
      " #   Column               Dtype  \n",
      "---  ------               -----  \n",
      " 0   fl_date              object \n",
      " 1   mkt_unique_carrier   object \n",
      " 2   branded_code_share   object \n",
      " 3   mkt_carrier          object \n",
      " 4   mkt_carrier_fl_num   int64  \n",
      " 5   op_unique_carrier    object \n",
      " 6   tail_num             object \n",
      " 7   op_carrier_fl_num    int64  \n",
      " 8   origin_airport_id    int64  \n",
      " 9   origin               object \n",
      " 10  origin_city_name     object \n",
      " 11  dest_airport_id      int64  \n",
      " 12  dest                 object \n",
      " 13  dest_city_name       object \n",
      " 14  crs_dep_time         int64  \n",
      " 15  dep_time             float64\n",
      " 16  dep_delay            float64\n",
      " 17  taxi_out             float64\n",
      " 18  wheels_off           float64\n",
      " 19  wheels_on            float64\n",
      " 20  taxi_in              float64\n",
      " 21  crs_arr_time         int64  \n",
      " 22  arr_time             float64\n",
      " 23  arr_delay            float64\n",
      " 24  cancelled            float64\n",
      " 25  cancellation_code    object \n",
      " 26  diverted             float64\n",
      " 27  dup                  object \n",
      " 28  crs_elapsed_time     float64\n",
      " 29  actual_elapsed_time  float64\n",
      " 30  air_time             float64\n",
      " 31  flights              float64\n",
      " 32  distance             float64\n",
      " 33  carrier_delay        float64\n",
      " 34  weather_delay        float64\n",
      " 35  nas_delay            float64\n",
      " 36  security_delay       float64\n",
      " 37  late_aircraft_delay  float64\n",
      " 38  first_dep_time       float64\n",
      " 39  total_add_gtime      float64\n",
      " 40  longest_add_gtime    float64\n",
      " 41  no_name              float64\n",
      " 42  total_delay          float64\n",
      "dtypes: float64(25), int64(6), object(12)\n",
      "memory usage: 659.4+ MB\n"
     ]
    }
   ],
   "source": [
    "df.info()"
   ]
  },
  {
   "cell_type": "code",
   "execution_count": 98,
   "metadata": {},
   "outputs": [
    {
     "data": {
      "image/png": "[encoded data removed]",
      "text/plain": [
       "<Figure size 432x288 with 1 Axes>"
      ]
     },
     "metadata": {
      "needs_background": "light"
     },
     "output_type": "display_data"
    }
   ],
   "source": [
    "boxplot = df.boxplot(column=['dep_delay', 'arr_delay', 'total_delay'])"
   ]
  },
  {
   "cell_type": "markdown",
   "metadata": {},
   "source": [
    "#### Next we're creating columns with the year, month, and day for each flight to make them easier to work with"
   ]
  },
  {
   "cell_type": "code",
   "execution_count": 99,
   "metadata": {},
   "outputs": [],
   "source": [
    "df['year'] = pd.DatetimeIndex(df['fl_date']).year\n",
    "df['month'] = pd.DatetimeIndex(df['fl_date']).month\n",
    "df['day'] = pd.DatetimeIndex(df['fl_date']).day"
   ]
  },
  {
   "cell_type": "code",
   "execution_count": 100,
   "metadata": {},
   "outputs": [
    {
     "data": {
      "text/html": [
       "<div>\n",
       "<style scoped>\n",
       "    .dataframe tbody tr th:only-of-type {\n",
       "        vertical-align: middle;\n",
       "    }\n",
       "\n",
       "    .dataframe tbody tr th {\n",
       "        vertical-align: top;\n",
       "    }\n",
       "\n",
       "    .dataframe thead th {\n",
       "        text-align: right;\n",
       "    }\n",
       "</style>\n",
       "<table border=\"1\" class=\"dataframe\">\n",
       "  <thead>\n",
       "    <tr style=\"text-align: right;\">\n",
       "      <th></th>\n",
       "      <th>fl_date</th>\n",
       "      <th>mkt_unique_carrier</th>\n",
       "      <th>branded_code_share</th>\n",
       "      <th>mkt_carrier</th>\n",
       "      <th>mkt_carrier_fl_num</th>\n",
       "      <th>op_unique_carrier</th>\n",
       "      <th>tail_num</th>\n",
       "      <th>op_carrier_fl_num</th>\n",
       "      <th>origin_airport_id</th>\n",
       "      <th>origin</th>\n",
       "      <th>...</th>\n",
       "      <th>security_delay</th>\n",
       "      <th>late_aircraft_delay</th>\n",
       "      <th>first_dep_time</th>\n",
       "      <th>total_add_gtime</th>\n",
       "      <th>longest_add_gtime</th>\n",
       "      <th>no_name</th>\n",
       "      <th>total_delay</th>\n",
       "      <th>year</th>\n",
       "      <th>month</th>\n",
       "      <th>day</th>\n",
       "    </tr>\n",
       "  </thead>\n",
       "  <tbody>\n",
       "    <tr>\n",
       "      <th>0</th>\n",
       "      <td>2019-11-11</td>\n",
       "      <td>WN</td>\n",
       "      <td>WN</td>\n",
       "      <td>WN</td>\n",
       "      <td>410</td>\n",
       "      <td>WN</td>\n",
       "      <td>N7842A</td>\n",
       "      <td>410</td>\n",
       "      <td>13495</td>\n",
       "      <td>MSY</td>\n",
       "      <td>...</td>\n",
       "      <td>NaN</td>\n",
       "      <td>NaN</td>\n",
       "      <td>NaN</td>\n",
       "      <td>NaN</td>\n",
       "      <td>NaN</td>\n",
       "      <td>NaN</td>\n",
       "      <td>10.0</td>\n",
       "      <td>2019</td>\n",
       "      <td>11</td>\n",
       "      <td>11</td>\n",
       "    </tr>\n",
       "    <tr>\n",
       "      <th>1</th>\n",
       "      <td>2019-11-11</td>\n",
       "      <td>WN</td>\n",
       "      <td>WN</td>\n",
       "      <td>WN</td>\n",
       "      <td>2149</td>\n",
       "      <td>WN</td>\n",
       "      <td>N420WN</td>\n",
       "      <td>2149</td>\n",
       "      <td>13495</td>\n",
       "      <td>MSY</td>\n",
       "      <td>...</td>\n",
       "      <td>NaN</td>\n",
       "      <td>NaN</td>\n",
       "      <td>NaN</td>\n",
       "      <td>NaN</td>\n",
       "      <td>NaN</td>\n",
       "      <td>NaN</td>\n",
       "      <td>10.0</td>\n",
       "      <td>2019</td>\n",
       "      <td>11</td>\n",
       "      <td>11</td>\n",
       "    </tr>\n",
       "  </tbody>\n",
       "</table>\n",
       "<p>2 rows × 46 columns</p>\n",
       "</div>"
      ],
      "text/plain": [
       "      fl_date mkt_unique_carrier branded_code_share mkt_carrier  \\\n",
       "0  2019-11-11                 WN                 WN          WN   \n",
       "1  2019-11-11                 WN                 WN          WN   \n",
       "\n",
       "   mkt_carrier_fl_num op_unique_carrier tail_num  op_carrier_fl_num  \\\n",
       "0                 410                WN   N7842A                410   \n",
       "1                2149                WN   N420WN               2149   \n",
       "\n",
       "   origin_airport_id origin  ... security_delay  late_aircraft_delay  \\\n",
       "0              13495    MSY  ...            NaN                  NaN   \n",
       "1              13495    MSY  ...            NaN                  NaN   \n",
       "\n",
       "  first_dep_time total_add_gtime  longest_add_gtime  no_name  total_delay  \\\n",
       "0            NaN             NaN                NaN      NaN         10.0   \n",
       "1            NaN             NaN                NaN      NaN         10.0   \n",
       "\n",
       "   year  month  day  \n",
       "0  2019     11   11  \n",
       "1  2019     11   11  \n",
       "\n",
       "[2 rows x 46 columns]"
      ]
     },
     "execution_count": 100,
     "metadata": {},
     "output_type": "execute_result"
    }
   ],
   "source": [
    "df.head(2)"
   ]
  },
  {
   "cell_type": "markdown",
   "metadata": {},
   "source": [
    "#### Create a new DF which consists of the month, and day aggregated values for 2018, and 2019, which we then take the average of, to find the daily average delay"
   ]
  },
  {
   "cell_type": "code",
   "execution_count": 101,
   "metadata": {},
   "outputs": [],
   "source": [
    "month_day = round(df.groupby(['month', 'day'])[['total_delay']].mean(),2)"
   ]
  },
  {
   "cell_type": "code",
   "execution_count": 103,
   "metadata": {},
   "outputs": [],
   "source": [
    "month_day.to_csv('month_day_avgs.csv')"
   ]
  },
  {
   "cell_type": "code",
   "execution_count": 106,
   "metadata": {},
   "outputs": [
    {
     "data": {
      "text/html": [
       "<div>\n",
       "<style scoped>\n",
       "    .dataframe tbody tr th:only-of-type {\n",
       "        vertical-align: middle;\n",
       "    }\n",
       "\n",
       "    .dataframe tbody tr th {\n",
       "        vertical-align: top;\n",
       "    }\n",
       "\n",
       "    .dataframe thead th {\n",
       "        text-align: right;\n",
       "    }\n",
       "</style>\n",
       "<table border=\"1\" class=\"dataframe\">\n",
       "  <thead>\n",
       "    <tr style=\"text-align: right;\">\n",
       "      <th></th>\n",
       "      <th></th>\n",
       "      <th>total_delay</th>\n",
       "    </tr>\n",
       "    <tr>\n",
       "      <th>month</th>\n",
       "      <th>day</th>\n",
       "      <th></th>\n",
       "    </tr>\n",
       "  </thead>\n",
       "  <tbody>\n",
       "    <tr>\n",
       "      <th rowspan=\"5\" valign=\"top\">1</th>\n",
       "      <th>1</th>\n",
       "      <td>6.00</td>\n",
       "    </tr>\n",
       "    <tr>\n",
       "      <th>2</th>\n",
       "      <td>5.05</td>\n",
       "    </tr>\n",
       "    <tr>\n",
       "      <th>3</th>\n",
       "      <td>6.44</td>\n",
       "    </tr>\n",
       "    <tr>\n",
       "      <th>4</th>\n",
       "      <td>7.19</td>\n",
       "    </tr>\n",
       "    <tr>\n",
       "      <th>5</th>\n",
       "      <td>6.39</td>\n",
       "    </tr>\n",
       "    <tr>\n",
       "      <th>...</th>\n",
       "      <th>...</th>\n",
       "      <td>...</td>\n",
       "    </tr>\n",
       "    <tr>\n",
       "      <th rowspan=\"5\" valign=\"top\">12</th>\n",
       "      <th>27</th>\n",
       "      <td>5.42</td>\n",
       "    </tr>\n",
       "    <tr>\n",
       "      <th>28</th>\n",
       "      <td>4.80</td>\n",
       "    </tr>\n",
       "    <tr>\n",
       "      <th>29</th>\n",
       "      <td>5.95</td>\n",
       "    </tr>\n",
       "    <tr>\n",
       "      <th>30</th>\n",
       "      <td>6.23</td>\n",
       "    </tr>\n",
       "    <tr>\n",
       "      <th>31</th>\n",
       "      <td>6.55</td>\n",
       "    </tr>\n",
       "  </tbody>\n",
       "</table>\n",
       "<p>365 rows × 1 columns</p>\n",
       "</div>"
      ],
      "text/plain": [
       "           total_delay\n",
       "month day             \n",
       "1     1           6.00\n",
       "      2           5.05\n",
       "      3           6.44\n",
       "      4           7.19\n",
       "      5           6.39\n",
       "...                ...\n",
       "12    27          5.42\n",
       "      28          4.80\n",
       "      29          5.95\n",
       "      30          6.23\n",
       "      31          6.55\n",
       "\n",
       "[365 rows x 1 columns]"
      ]
     },
     "execution_count": 106,
     "metadata": {},
     "output_type": "execute_result"
    }
   ],
   "source": [
    "month_day"
   ]
  },
  {
   "cell_type": "code",
   "execution_count": null,
   "metadata": {},
   "outputs": [],
   "source": []
  },
  {
   "cell_type": "markdown",
   "metadata": {},
   "source": [
    "#### Here we're creating df's to calculate the monthly mean and median total delay"
   ]
  },
  {
   "cell_type": "code",
   "execution_count": 107,
   "metadata": {},
   "outputs": [],
   "source": [
    "monthly_mean_total = round(df.groupby(['month'])[['total_delay']].mean(),2)\n",
    "monthly_med_total = df.groupby(['month'])[['total_delay']].median()"
   ]
  },
  {
   "cell_type": "markdown",
   "metadata": {},
   "source": [
    "#### We can see that monthly mean and median  totals are fairly consistent throughout the year. "
   ]
  },
  {
   "cell_type": "code",
   "execution_count": 108,
   "metadata": {},
   "outputs": [
    {
     "data": {
      "text/html": [
       "<div>\n",
       "<style scoped>\n",
       "    .dataframe tbody tr th:only-of-type {\n",
       "        vertical-align: middle;\n",
       "    }\n",
       "\n",
       "    .dataframe tbody tr th {\n",
       "        vertical-align: top;\n",
       "    }\n",
       "\n",
       "    .dataframe thead th {\n",
       "        text-align: right;\n",
       "    }\n",
       "</style>\n",
       "<table border=\"1\" class=\"dataframe\">\n",
       "  <thead>\n",
       "    <tr style=\"text-align: right;\">\n",
       "      <th></th>\n",
       "      <th>total_delay</th>\n",
       "    </tr>\n",
       "    <tr>\n",
       "      <th>month</th>\n",
       "      <th></th>\n",
       "    </tr>\n",
       "  </thead>\n",
       "  <tbody>\n",
       "    <tr>\n",
       "      <th>1</th>\n",
       "      <td>5.80</td>\n",
       "    </tr>\n",
       "    <tr>\n",
       "      <th>2</th>\n",
       "      <td>4.89</td>\n",
       "    </tr>\n",
       "    <tr>\n",
       "      <th>3</th>\n",
       "      <td>5.55</td>\n",
       "    </tr>\n",
       "    <tr>\n",
       "      <th>4</th>\n",
       "      <td>5.17</td>\n",
       "    </tr>\n",
       "    <tr>\n",
       "      <th>5</th>\n",
       "      <td>4.77</td>\n",
       "    </tr>\n",
       "    <tr>\n",
       "      <th>6</th>\n",
       "      <td>4.14</td>\n",
       "    </tr>\n",
       "    <tr>\n",
       "      <th>7</th>\n",
       "      <td>4.75</td>\n",
       "    </tr>\n",
       "    <tr>\n",
       "      <th>8</th>\n",
       "      <td>4.30</td>\n",
       "    </tr>\n",
       "    <tr>\n",
       "      <th>9</th>\n",
       "      <td>5.13</td>\n",
       "    </tr>\n",
       "    <tr>\n",
       "      <th>10</th>\n",
       "      <td>4.66</td>\n",
       "    </tr>\n",
       "    <tr>\n",
       "      <th>11</th>\n",
       "      <td>5.12</td>\n",
       "    </tr>\n",
       "    <tr>\n",
       "      <th>12</th>\n",
       "      <td>5.67</td>\n",
       "    </tr>\n",
       "  </tbody>\n",
       "</table>\n",
       "</div>"
      ],
      "text/plain": [
       "       total_delay\n",
       "month             \n",
       "1             5.80\n",
       "2             4.89\n",
       "3             5.55\n",
       "4             5.17\n",
       "5             4.77\n",
       "6             4.14\n",
       "7             4.75\n",
       "8             4.30\n",
       "9             5.13\n",
       "10            4.66\n",
       "11            5.12\n",
       "12            5.67"
      ]
     },
     "execution_count": 108,
     "metadata": {},
     "output_type": "execute_result"
    }
   ],
   "source": [
    "monthly_mean_total"
   ]
  },
  {
   "cell_type": "code",
   "execution_count": 109,
   "metadata": {},
   "outputs": [
    {
     "data": {
      "text/html": [
       "<div>\n",
       "<style scoped>\n",
       "    .dataframe tbody tr th:only-of-type {\n",
       "        vertical-align: middle;\n",
       "    }\n",
       "\n",
       "    .dataframe tbody tr th {\n",
       "        vertical-align: top;\n",
       "    }\n",
       "\n",
       "    .dataframe thead th {\n",
       "        text-align: right;\n",
       "    }\n",
       "</style>\n",
       "<table border=\"1\" class=\"dataframe\">\n",
       "  <thead>\n",
       "    <tr style=\"text-align: right;\">\n",
       "      <th></th>\n",
       "      <th>total_delay</th>\n",
       "    </tr>\n",
       "    <tr>\n",
       "      <th>month</th>\n",
       "      <th></th>\n",
       "    </tr>\n",
       "  </thead>\n",
       "  <tbody>\n",
       "    <tr>\n",
       "      <th>1</th>\n",
       "      <td>7.0</td>\n",
       "    </tr>\n",
       "    <tr>\n",
       "      <th>2</th>\n",
       "      <td>6.0</td>\n",
       "    </tr>\n",
       "    <tr>\n",
       "      <th>3</th>\n",
       "      <td>7.0</td>\n",
       "    </tr>\n",
       "    <tr>\n",
       "      <th>4</th>\n",
       "      <td>6.0</td>\n",
       "    </tr>\n",
       "    <tr>\n",
       "      <th>5</th>\n",
       "      <td>6.0</td>\n",
       "    </tr>\n",
       "    <tr>\n",
       "      <th>6</th>\n",
       "      <td>6.0</td>\n",
       "    </tr>\n",
       "    <tr>\n",
       "      <th>7</th>\n",
       "      <td>6.0</td>\n",
       "    </tr>\n",
       "    <tr>\n",
       "      <th>8</th>\n",
       "      <td>6.0</td>\n",
       "    </tr>\n",
       "    <tr>\n",
       "      <th>9</th>\n",
       "      <td>7.0</td>\n",
       "    </tr>\n",
       "    <tr>\n",
       "      <th>10</th>\n",
       "      <td>6.0</td>\n",
       "    </tr>\n",
       "    <tr>\n",
       "      <th>11</th>\n",
       "      <td>6.0</td>\n",
       "    </tr>\n",
       "    <tr>\n",
       "      <th>12</th>\n",
       "      <td>7.0</td>\n",
       "    </tr>\n",
       "  </tbody>\n",
       "</table>\n",
       "</div>"
      ],
      "text/plain": [
       "       total_delay\n",
       "month             \n",
       "1              7.0\n",
       "2              6.0\n",
       "3              7.0\n",
       "4              6.0\n",
       "5              6.0\n",
       "6              6.0\n",
       "7              6.0\n",
       "8              6.0\n",
       "9              7.0\n",
       "10             6.0\n",
       "11             6.0\n",
       "12             7.0"
      ]
     },
     "execution_count": 109,
     "metadata": {},
     "output_type": "execute_result"
    }
   ],
   "source": [
    "monthly_med_total"
   ]
  },
  {
   "cell_type": "markdown",
   "metadata": {},
   "source": [
    "#### Here we're going to take a look at the departure delay, and the arrival delay, in a similar way as above"
   ]
  },
  {
   "cell_type": "code",
   "execution_count": 110,
   "metadata": {},
   "outputs": [],
   "source": [
    "monthly_mean_dep = round(df.groupby(['month'])[['dep_delay']].mean(),2)\n",
    "monthly_med_dep = df.groupby(['month'])[['dep_delay']].median()\n",
    "monthly_mean_arr = round(df.groupby(['month'])[['arr_delay']].mean(),2)\n",
    "monthly_med_arr = df.groupby(['month'])[['arr_delay']].median()"
   ]
  },
  {
   "cell_type": "code",
   "execution_count": 111,
   "metadata": {},
   "outputs": [
    {
     "data": {
      "text/html": [
       "<div>\n",
       "<style scoped>\n",
       "    .dataframe tbody tr th:only-of-type {\n",
       "        vertical-align: middle;\n",
       "    }\n",
       "\n",
       "    .dataframe tbody tr th {\n",
       "        vertical-align: top;\n",
       "    }\n",
       "\n",
       "    .dataframe thead th {\n",
       "        text-align: right;\n",
       "    }\n",
       "</style>\n",
       "<table border=\"1\" class=\"dataframe\">\n",
       "  <thead>\n",
       "    <tr style=\"text-align: right;\">\n",
       "      <th></th>\n",
       "      <th>dep_delay</th>\n",
       "    </tr>\n",
       "    <tr>\n",
       "      <th>month</th>\n",
       "      <th></th>\n",
       "    </tr>\n",
       "  </thead>\n",
       "  <tbody>\n",
       "    <tr>\n",
       "      <th>1</th>\n",
       "      <td>10.00</td>\n",
       "    </tr>\n",
       "    <tr>\n",
       "      <th>2</th>\n",
       "      <td>11.89</td>\n",
       "    </tr>\n",
       "    <tr>\n",
       "      <th>3</th>\n",
       "      <td>8.31</td>\n",
       "    </tr>\n",
       "    <tr>\n",
       "      <th>4</th>\n",
       "      <td>9.49</td>\n",
       "    </tr>\n",
       "    <tr>\n",
       "      <th>5</th>\n",
       "      <td>11.50</td>\n",
       "    </tr>\n",
       "    <tr>\n",
       "      <th>6</th>\n",
       "      <td>14.52</td>\n",
       "    </tr>\n",
       "    <tr>\n",
       "      <th>7</th>\n",
       "      <td>13.92</td>\n",
       "    </tr>\n",
       "    <tr>\n",
       "      <th>8</th>\n",
       "      <td>13.27</td>\n",
       "    </tr>\n",
       "    <tr>\n",
       "      <th>9</th>\n",
       "      <td>7.00</td>\n",
       "    </tr>\n",
       "    <tr>\n",
       "      <th>10</th>\n",
       "      <td>7.55</td>\n",
       "    </tr>\n",
       "    <tr>\n",
       "      <th>11</th>\n",
       "      <td>8.14</td>\n",
       "    </tr>\n",
       "    <tr>\n",
       "      <th>12</th>\n",
       "      <td>10.67</td>\n",
       "    </tr>\n",
       "  </tbody>\n",
       "</table>\n",
       "</div>"
      ],
      "text/plain": [
       "       dep_delay\n",
       "month           \n",
       "1          10.00\n",
       "2          11.89\n",
       "3           8.31\n",
       "4           9.49\n",
       "5          11.50\n",
       "6          14.52\n",
       "7          13.92\n",
       "8          13.27\n",
       "9           7.00\n",
       "10          7.55\n",
       "11          8.14\n",
       "12         10.67"
      ]
     },
     "execution_count": 111,
     "metadata": {},
     "output_type": "execute_result"
    }
   ],
   "source": [
    "monthly_mean_dep"
   ]
  },
  {
   "cell_type": "code",
   "execution_count": 112,
   "metadata": {},
   "outputs": [
    {
     "data": {
      "text/html": [
       "<div>\n",
       "<style scoped>\n",
       "    .dataframe tbody tr th:only-of-type {\n",
       "        vertical-align: middle;\n",
       "    }\n",
       "\n",
       "    .dataframe tbody tr th {\n",
       "        vertical-align: top;\n",
       "    }\n",
       "\n",
       "    .dataframe thead th {\n",
       "        text-align: right;\n",
       "    }\n",
       "</style>\n",
       "<table border=\"1\" class=\"dataframe\">\n",
       "  <thead>\n",
       "    <tr style=\"text-align: right;\">\n",
       "      <th></th>\n",
       "      <th>dep_delay</th>\n",
       "    </tr>\n",
       "    <tr>\n",
       "      <th>month</th>\n",
       "      <th></th>\n",
       "    </tr>\n",
       "  </thead>\n",
       "  <tbody>\n",
       "    <tr>\n",
       "      <th>1</th>\n",
       "      <td>-3.0</td>\n",
       "    </tr>\n",
       "    <tr>\n",
       "      <th>2</th>\n",
       "      <td>-2.0</td>\n",
       "    </tr>\n",
       "    <tr>\n",
       "      <th>3</th>\n",
       "      <td>-2.0</td>\n",
       "    </tr>\n",
       "    <tr>\n",
       "      <th>4</th>\n",
       "      <td>-3.0</td>\n",
       "    </tr>\n",
       "    <tr>\n",
       "      <th>5</th>\n",
       "      <td>-2.0</td>\n",
       "    </tr>\n",
       "    <tr>\n",
       "      <th>6</th>\n",
       "      <td>-1.0</td>\n",
       "    </tr>\n",
       "    <tr>\n",
       "      <th>7</th>\n",
       "      <td>-2.0</td>\n",
       "    </tr>\n",
       "    <tr>\n",
       "      <th>8</th>\n",
       "      <td>-2.0</td>\n",
       "    </tr>\n",
       "    <tr>\n",
       "      <th>9</th>\n",
       "      <td>-3.0</td>\n",
       "    </tr>\n",
       "    <tr>\n",
       "      <th>10</th>\n",
       "      <td>-3.0</td>\n",
       "    </tr>\n",
       "    <tr>\n",
       "      <th>11</th>\n",
       "      <td>-3.0</td>\n",
       "    </tr>\n",
       "    <tr>\n",
       "      <th>12</th>\n",
       "      <td>-2.0</td>\n",
       "    </tr>\n",
       "  </tbody>\n",
       "</table>\n",
       "</div>"
      ],
      "text/plain": [
       "       dep_delay\n",
       "month           \n",
       "1           -3.0\n",
       "2           -2.0\n",
       "3           -2.0\n",
       "4           -3.0\n",
       "5           -2.0\n",
       "6           -1.0\n",
       "7           -2.0\n",
       "8           -2.0\n",
       "9           -3.0\n",
       "10          -3.0\n",
       "11          -3.0\n",
       "12          -2.0"
      ]
     },
     "execution_count": 112,
     "metadata": {},
     "output_type": "execute_result"
    }
   ],
   "source": [
    "monthly_med_dep"
   ]
  },
  {
   "cell_type": "code",
   "execution_count": 113,
   "metadata": {},
   "outputs": [
    {
     "data": {
      "text/html": [
       "<div>\n",
       "<style scoped>\n",
       "    .dataframe tbody tr th:only-of-type {\n",
       "        vertical-align: middle;\n",
       "    }\n",
       "\n",
       "    .dataframe tbody tr th {\n",
       "        vertical-align: top;\n",
       "    }\n",
       "\n",
       "    .dataframe thead th {\n",
       "        text-align: right;\n",
       "    }\n",
       "</style>\n",
       "<table border=\"1\" class=\"dataframe\">\n",
       "  <thead>\n",
       "    <tr style=\"text-align: right;\">\n",
       "      <th></th>\n",
       "      <th>arr_delay</th>\n",
       "    </tr>\n",
       "    <tr>\n",
       "      <th>month</th>\n",
       "      <th></th>\n",
       "    </tr>\n",
       "  </thead>\n",
       "  <tbody>\n",
       "    <tr>\n",
       "      <th>1</th>\n",
       "      <td>4.14</td>\n",
       "    </tr>\n",
       "    <tr>\n",
       "      <th>2</th>\n",
       "      <td>6.90</td>\n",
       "    </tr>\n",
       "    <tr>\n",
       "      <th>3</th>\n",
       "      <td>2.72</td>\n",
       "    </tr>\n",
       "    <tr>\n",
       "      <th>4</th>\n",
       "      <td>4.27</td>\n",
       "    </tr>\n",
       "    <tr>\n",
       "      <th>5</th>\n",
       "      <td>6.66</td>\n",
       "    </tr>\n",
       "    <tr>\n",
       "      <th>6</th>\n",
       "      <td>10.31</td>\n",
       "    </tr>\n",
       "    <tr>\n",
       "      <th>7</th>\n",
       "      <td>9.08</td>\n",
       "    </tr>\n",
       "    <tr>\n",
       "      <th>8</th>\n",
       "      <td>8.89</td>\n",
       "    </tr>\n",
       "    <tr>\n",
       "      <th>9</th>\n",
       "      <td>1.81</td>\n",
       "    </tr>\n",
       "    <tr>\n",
       "      <th>10</th>\n",
       "      <td>2.87</td>\n",
       "    </tr>\n",
       "    <tr>\n",
       "      <th>11</th>\n",
       "      <td>2.95</td>\n",
       "    </tr>\n",
       "    <tr>\n",
       "      <th>12</th>\n",
       "      <td>4.93</td>\n",
       "    </tr>\n",
       "  </tbody>\n",
       "</table>\n",
       "</div>"
      ],
      "text/plain": [
       "       arr_delay\n",
       "month           \n",
       "1           4.14\n",
       "2           6.90\n",
       "3           2.72\n",
       "4           4.27\n",
       "5           6.66\n",
       "6          10.31\n",
       "7           9.08\n",
       "8           8.89\n",
       "9           1.81\n",
       "10          2.87\n",
       "11          2.95\n",
       "12          4.93"
      ]
     },
     "execution_count": 113,
     "metadata": {},
     "output_type": "execute_result"
    }
   ],
   "source": [
    "monthly_mean_arr"
   ]
  },
  {
   "cell_type": "code",
   "execution_count": 114,
   "metadata": {},
   "outputs": [
    {
     "data": {
      "text/html": [
       "<div>\n",
       "<style scoped>\n",
       "    .dataframe tbody tr th:only-of-type {\n",
       "        vertical-align: middle;\n",
       "    }\n",
       "\n",
       "    .dataframe tbody tr th {\n",
       "        vertical-align: top;\n",
       "    }\n",
       "\n",
       "    .dataframe thead th {\n",
       "        text-align: right;\n",
       "    }\n",
       "</style>\n",
       "<table border=\"1\" class=\"dataframe\">\n",
       "  <thead>\n",
       "    <tr style=\"text-align: right;\">\n",
       "      <th></th>\n",
       "      <th>arr_delay</th>\n",
       "    </tr>\n",
       "    <tr>\n",
       "      <th>month</th>\n",
       "      <th></th>\n",
       "    </tr>\n",
       "  </thead>\n",
       "  <tbody>\n",
       "    <tr>\n",
       "      <th>1</th>\n",
       "      <td>-7.0</td>\n",
       "    </tr>\n",
       "    <tr>\n",
       "      <th>2</th>\n",
       "      <td>-6.0</td>\n",
       "    </tr>\n",
       "    <tr>\n",
       "      <th>3</th>\n",
       "      <td>-7.0</td>\n",
       "    </tr>\n",
       "    <tr>\n",
       "      <th>4</th>\n",
       "      <td>-7.0</td>\n",
       "    </tr>\n",
       "    <tr>\n",
       "      <th>5</th>\n",
       "      <td>-6.0</td>\n",
       "    </tr>\n",
       "    <tr>\n",
       "      <th>6</th>\n",
       "      <td>-4.0</td>\n",
       "    </tr>\n",
       "    <tr>\n",
       "      <th>7</th>\n",
       "      <td>-5.0</td>\n",
       "    </tr>\n",
       "    <tr>\n",
       "      <th>8</th>\n",
       "      <td>-5.0</td>\n",
       "    </tr>\n",
       "    <tr>\n",
       "      <th>9</th>\n",
       "      <td>-8.0</td>\n",
       "    </tr>\n",
       "    <tr>\n",
       "      <th>10</th>\n",
       "      <td>-6.0</td>\n",
       "    </tr>\n",
       "    <tr>\n",
       "      <th>11</th>\n",
       "      <td>-7.0</td>\n",
       "    </tr>\n",
       "    <tr>\n",
       "      <th>12</th>\n",
       "      <td>-6.0</td>\n",
       "    </tr>\n",
       "  </tbody>\n",
       "</table>\n",
       "</div>"
      ],
      "text/plain": [
       "       arr_delay\n",
       "month           \n",
       "1           -7.0\n",
       "2           -6.0\n",
       "3           -7.0\n",
       "4           -7.0\n",
       "5           -6.0\n",
       "6           -4.0\n",
       "7           -5.0\n",
       "8           -5.0\n",
       "9           -8.0\n",
       "10          -6.0\n",
       "11          -7.0\n",
       "12          -6.0"
      ]
     },
     "execution_count": 114,
     "metadata": {},
     "output_type": "execute_result"
    }
   ],
   "source": [
    "monthly_med_arr"
   ]
  },
  {
   "cell_type": "markdown",
   "metadata": {},
   "source": [
    "- There doesn't seem to be much of a theme with the delays, other than with the means, they tend to be positive, likely due to the absurdly wide spread of data points within them\n",
    "\n",
    "- Second, the 6 highest months of the year are February, May, June, July, August, and December \n"
   ]
  },
  {
   "cell_type": "code",
   "execution_count": 116,
   "metadata": {},
   "outputs": [
    {
     "data": {
      "text/plain": [
       "count    1.964306e+06\n",
       "mean     1.055633e+01\n",
       "std      4.781358e+01\n",
       "min     -1.730000e+02\n",
       "25%     -6.000000e+00\n",
       "50%     -2.000000e+00\n",
       "75%      7.000000e+00\n",
       "max      1.966000e+03\n",
       "Name: dep_delay, dtype: float64"
      ]
     },
     "execution_count": 116,
     "metadata": {},
     "output_type": "execute_result"
    }
   ],
   "source": [
    "df['dep_delay'].describe()"
   ]
  },
  {
   "cell_type": "code",
   "execution_count": null,
   "metadata": {},
   "outputs": [],
   "source": []
  },
  {
   "cell_type": "code",
   "execution_count": null,
   "metadata": {},
   "outputs": [],
   "source": []
  },
  {
   "cell_type": "markdown",
   "metadata": {},
   "source": [
    "#### Next we're going to take a look at which states constitute the majority of the flights within the dataset"
   ]
  },
  {
   "cell_type": "code",
   "execution_count": 117,
   "metadata": {},
   "outputs": [],
   "source": [
    "df['dep_state'] = df['origin_city_name'].astype(str).str[-2:]\n",
    "df['arr_state'] = df['dest_city_name'].astype(str).str[-2:]"
   ]
  },
  {
   "cell_type": "code",
   "execution_count": 122,
   "metadata": {},
   "outputs": [
    {
     "data": {
      "text/html": [
       "<div>\n",
       "<style scoped>\n",
       "    .dataframe tbody tr th:only-of-type {\n",
       "        vertical-align: middle;\n",
       "    }\n",
       "\n",
       "    .dataframe tbody tr th {\n",
       "        vertical-align: top;\n",
       "    }\n",
       "\n",
       "    .dataframe thead th {\n",
       "        text-align: right;\n",
       "    }\n",
       "</style>\n",
       "<table border=\"1\" class=\"dataframe\">\n",
       "  <thead>\n",
       "    <tr style=\"text-align: right;\">\n",
       "      <th></th>\n",
       "      <th>fl_date</th>\n",
       "      <th>mkt_unique_carrier</th>\n",
       "      <th>branded_code_share</th>\n",
       "      <th>mkt_carrier</th>\n",
       "      <th>mkt_carrier_fl_num</th>\n",
       "      <th>op_unique_carrier</th>\n",
       "      <th>tail_num</th>\n",
       "      <th>op_carrier_fl_num</th>\n",
       "      <th>origin_airport_id</th>\n",
       "      <th>origin</th>\n",
       "      <th>...</th>\n",
       "      <th>first_dep_time</th>\n",
       "      <th>total_add_gtime</th>\n",
       "      <th>longest_add_gtime</th>\n",
       "      <th>no_name</th>\n",
       "      <th>total_delay</th>\n",
       "      <th>year</th>\n",
       "      <th>month</th>\n",
       "      <th>day</th>\n",
       "      <th>dep_state</th>\n",
       "      <th>arr_state</th>\n",
       "    </tr>\n",
       "  </thead>\n",
       "  <tbody>\n",
       "    <tr>\n",
       "      <th>0</th>\n",
       "      <td>2019-11-11</td>\n",
       "      <td>WN</td>\n",
       "      <td>WN</td>\n",
       "      <td>WN</td>\n",
       "      <td>410</td>\n",
       "      <td>WN</td>\n",
       "      <td>N7842A</td>\n",
       "      <td>410</td>\n",
       "      <td>13495</td>\n",
       "      <td>MSY</td>\n",
       "      <td>...</td>\n",
       "      <td>NaN</td>\n",
       "      <td>NaN</td>\n",
       "      <td>NaN</td>\n",
       "      <td>NaN</td>\n",
       "      <td>10.0</td>\n",
       "      <td>2019</td>\n",
       "      <td>11</td>\n",
       "      <td>11</td>\n",
       "      <td>LA</td>\n",
       "      <td>CO</td>\n",
       "    </tr>\n",
       "    <tr>\n",
       "      <th>1</th>\n",
       "      <td>2019-11-11</td>\n",
       "      <td>WN</td>\n",
       "      <td>WN</td>\n",
       "      <td>WN</td>\n",
       "      <td>2149</td>\n",
       "      <td>WN</td>\n",
       "      <td>N420WN</td>\n",
       "      <td>2149</td>\n",
       "      <td>13495</td>\n",
       "      <td>MSY</td>\n",
       "      <td>...</td>\n",
       "      <td>NaN</td>\n",
       "      <td>NaN</td>\n",
       "      <td>NaN</td>\n",
       "      <td>NaN</td>\n",
       "      <td>10.0</td>\n",
       "      <td>2019</td>\n",
       "      <td>11</td>\n",
       "      <td>11</td>\n",
       "      <td>LA</td>\n",
       "      <td>MO</td>\n",
       "    </tr>\n",
       "  </tbody>\n",
       "</table>\n",
       "<p>2 rows × 48 columns</p>\n",
       "</div>"
      ],
      "text/plain": [
       "      fl_date mkt_unique_carrier branded_code_share mkt_carrier  \\\n",
       "0  2019-11-11                 WN                 WN          WN   \n",
       "1  2019-11-11                 WN                 WN          WN   \n",
       "\n",
       "   mkt_carrier_fl_num op_unique_carrier tail_num  op_carrier_fl_num  \\\n",
       "0                 410                WN   N7842A                410   \n",
       "1                2149                WN   N420WN               2149   \n",
       "\n",
       "   origin_airport_id origin  ... first_dep_time  total_add_gtime  \\\n",
       "0              13495    MSY  ...            NaN              NaN   \n",
       "1              13495    MSY  ...            NaN              NaN   \n",
       "\n",
       "  longest_add_gtime no_name  total_delay  year  month  day  dep_state  \\\n",
       "0               NaN     NaN         10.0  2019     11   11         LA   \n",
       "1               NaN     NaN         10.0  2019     11   11         LA   \n",
       "\n",
       "   arr_state  \n",
       "0         CO  \n",
       "1         MO  \n",
       "\n",
       "[2 rows x 48 columns]"
      ]
     },
     "execution_count": 122,
     "metadata": {},
     "output_type": "execute_result"
    }
   ],
   "source": [
    "df.head(2)"
   ]
  },
  {
   "cell_type": "markdown",
   "metadata": {},
   "source": [
    "### After getting these into their own columns, we'll separate them out to their own DF so they're easier to work with."
   ]
  },
  {
   "cell_type": "code",
   "execution_count": 119,
   "metadata": {},
   "outputs": [],
   "source": [
    "states = df[['dep_state', 'arr_state']]"
   ]
  },
  {
   "cell_type": "code",
   "execution_count": 120,
   "metadata": {},
   "outputs": [],
   "source": [
    "dep_arr = states.value_counts(normalize=True) * 100"
   ]
  },
  {
   "cell_type": "markdown",
   "metadata": {},
   "source": [
    "### When combining the departure and arrival states, we can see the top routes that make up the flights in the dataset - 124 of them (about 10% of the total) account for 50% of all flights in the US"
   ]
  },
  {
   "cell_type": "code",
   "execution_count": 124,
   "metadata": {},
   "outputs": [
    {
     "data": {
      "text/plain": [
       "dep_state  arr_state\n",
       "CA         CA           3.483368\n",
       "TX         TX           2.521807\n",
       "HI         HI           0.960645\n",
       "CA         TX           0.899096\n",
       "TX         CA           0.895482\n",
       "                          ...   \n",
       "NV         AK           0.000051\n",
       "MT         MT           0.000051\n",
       "WI         WI           0.000051\n",
       "SC         AL           0.000051\n",
       "PR         MI           0.000051\n",
       "Length: 1385, dtype: float64"
      ]
     },
     "execution_count": 124,
     "metadata": {},
     "output_type": "execute_result"
    }
   ],
   "source": [
    "dep_arr"
   ]
  },
  {
   "cell_type": "markdown",
   "metadata": {},
   "source": [
    "### We'll do something similar for the departure and arrival states"
   ]
  },
  {
   "cell_type": "code",
   "execution_count": 39,
   "metadata": {},
   "outputs": [],
   "source": [
    "arr = states['arr_state'].value_counts(normalize=True) * 100\n",
    "dep = states['dep_state'].value_counts(normalize=True) * 100"
   ]
  },
  {
   "cell_type": "code",
   "execution_count": 40,
   "metadata": {},
   "outputs": [],
   "source": [
    "arr = arr.sort_values(ascending=False)\n",
    "dep = dep.sort_values(ascending=False)"
   ]
  },
  {
   "cell_type": "markdown",
   "metadata": {},
   "source": [
    "#### Specfiically, 8 departure states account for 50% of the total flights:\n",
    " - California\n",
    " - Texas\n",
    " - Florida\n",
    " - Illinois\n",
    " - Georgia\n",
    " - New York\n",
    " - North Carolina\n",
    " - Colorado"
   ]
  },
  {
   "cell_type": "code",
   "execution_count": 131,
   "metadata": {},
   "outputs": [
    {
     "data": {
      "text/plain": [
       "CA     10.945226\n",
       "TX     20.811981\n",
       "FL     28.011693\n",
       "IL     34.328597\n",
       "GA     39.619888\n",
       "NY     44.830641\n",
       "NC     49.450053\n",
       "CO     53.364000\n",
       "DC     56.356397\n",
       "PA     59.333477\n",
       "WA     62.211399\n",
       "MI     65.030658\n",
       "AZ     67.617765\n",
       "NV     69.999149\n",
       "OH     72.273266\n",
       "MN     74.431608\n",
       "NJ     76.521676\n",
       "MA     78.476297\n",
       "MO     80.316543\n",
       "TN     82.070897\n",
       "UT     83.641301\n",
       "HI     85.162601\n",
       "OR     86.585946\n",
       "MD     87.928603\n",
       "LA     89.008975\n",
       "VA     89.983682\n",
       "IN     90.898875\n",
       "WI     91.796449\n",
       "SC     92.669597\n",
       "OK     93.231656\n",
       "AL     93.782554\n",
       "AK     94.306422\n",
       "KY     94.827037\n",
       "NE     95.249195\n",
       "ID     95.667149\n",
       "AR     96.080998\n",
       "NM     96.478729\n",
       "CT     96.870254\n",
       "IA     97.253370\n",
       "MT     97.623872\n",
       "PR     97.983812\n",
       "ND     98.254806\n",
       "ME     98.519143\n",
       "RI     98.776022\n",
       "KS     98.990605\n",
       "SD     99.186918\n",
       "MS     99.382080\n",
       "NH     99.534645\n",
       "VT     99.680603\n",
       "WY     99.814299\n",
       "WV     99.921515\n",
       "VI     99.973721\n",
       "TT    100.000000\n",
       "Name: dep_state, dtype: float64"
      ]
     },
     "execution_count": 131,
     "metadata": {},
     "output_type": "execute_result"
    }
   ],
   "source": [
    "dep.cumsum()"
   ]
  },
  {
   "cell_type": "markdown",
   "metadata": {},
   "source": [
    "#### A similar 8 states account for 50% of the arrivals:\n",
    " - California\n",
    " - Texas\n",
    " - Florida\n",
    " - Illinois\n",
    " - Georgia\n",
    " - New York\n",
    " - North Carolina\n",
    " - Colorado"
   ]
  },
  {
   "cell_type": "code",
   "execution_count": 130,
   "metadata": {},
   "outputs": [
    {
     "data": {
      "text/plain": [
       "CA     10.904431\n",
       "TX     20.766782\n",
       "FL     28.007839\n",
       "IL     34.335154\n",
       "GA     39.608575\n",
       "NY     44.800108\n",
       "NC     49.423324\n",
       "CO     53.327510\n",
       "PA     56.317454\n",
       "DC     59.292132\n",
       "WA     62.191177\n",
       "MI     65.010086\n",
       "AZ     67.596342\n",
       "NV     69.974022\n",
       "OH     72.251393\n",
       "MN     74.405830\n",
       "NJ     76.482333\n",
       "MA     78.433851\n",
       "MO     80.285460\n",
       "TN     82.038362\n",
       "UT     83.624382\n",
       "HI     85.149587\n",
       "OR     86.573983\n",
       "MD     87.937712\n",
       "LA     89.011477\n",
       "VA     89.983632\n",
       "IN     90.888114\n",
       "WI     91.790843\n",
       "SC     92.658134\n",
       "OK     93.233959\n",
       "AL     93.782504\n",
       "AK     94.303519\n",
       "KY     94.811971\n",
       "NE     95.233128\n",
       "ID     95.650130\n",
       "AR     96.061377\n",
       "NM     96.459559\n",
       "IA     96.856039\n",
       "CT     97.249015\n",
       "MT     97.631330\n",
       "PR     97.988267\n",
       "ME     98.255507\n",
       "ND     98.522547\n",
       "RI     98.778875\n",
       "KS     98.993608\n",
       "SD     99.190472\n",
       "MS     99.384582\n",
       "VT     99.535246\n",
       "NH     99.683056\n",
       "WY     99.816151\n",
       "WV     99.920364\n",
       "VI     99.973872\n",
       "TT    100.000000\n",
       "Name: arr_state, dtype: float64"
      ]
     },
     "execution_count": 130,
     "metadata": {},
     "output_type": "execute_result"
    }
   ],
   "source": [
    "arr.cumsum()"
   ]
  },
  {
   "cell_type": "markdown",
   "metadata": {},
   "source": [
    "#### Here we're labeling what type of flight each one is:\n",
    "- Short Haul = 0-699\n",
    "- Medium Haul = 700-2,199\n",
    "- Long Haul = 2,200 - 10,000"
   ]
  },
  {
   "cell_type": "code",
   "execution_count": 132,
   "metadata": {},
   "outputs": [],
   "source": [
    "df['cat'] = pd.cut(df['distance'], [0,699,2199,10000], labels=['short', 'medium', 'long'])"
   ]
  },
  {
   "cell_type": "code",
   "execution_count": 133,
   "metadata": {},
   "outputs": [
    {
     "data": {
      "text/html": [
       "<div>\n",
       "<style scoped>\n",
       "    .dataframe tbody tr th:only-of-type {\n",
       "        vertical-align: middle;\n",
       "    }\n",
       "\n",
       "    .dataframe tbody tr th {\n",
       "        vertical-align: top;\n",
       "    }\n",
       "\n",
       "    .dataframe thead th {\n",
       "        text-align: right;\n",
       "    }\n",
       "</style>\n",
       "<table border=\"1\" class=\"dataframe\">\n",
       "  <thead>\n",
       "    <tr style=\"text-align: right;\">\n",
       "      <th></th>\n",
       "      <th>fl_date</th>\n",
       "      <th>mkt_unique_carrier</th>\n",
       "      <th>branded_code_share</th>\n",
       "      <th>mkt_carrier</th>\n",
       "      <th>mkt_carrier_fl_num</th>\n",
       "      <th>op_unique_carrier</th>\n",
       "      <th>tail_num</th>\n",
       "      <th>op_carrier_fl_num</th>\n",
       "      <th>origin_airport_id</th>\n",
       "      <th>origin</th>\n",
       "      <th>...</th>\n",
       "      <th>total_add_gtime</th>\n",
       "      <th>longest_add_gtime</th>\n",
       "      <th>no_name</th>\n",
       "      <th>total_delay</th>\n",
       "      <th>year</th>\n",
       "      <th>month</th>\n",
       "      <th>day</th>\n",
       "      <th>dep_state</th>\n",
       "      <th>arr_state</th>\n",
       "      <th>cat</th>\n",
       "    </tr>\n",
       "  </thead>\n",
       "  <tbody>\n",
       "    <tr>\n",
       "      <th>0</th>\n",
       "      <td>2019-11-11</td>\n",
       "      <td>WN</td>\n",
       "      <td>WN</td>\n",
       "      <td>WN</td>\n",
       "      <td>410</td>\n",
       "      <td>WN</td>\n",
       "      <td>N7842A</td>\n",
       "      <td>410</td>\n",
       "      <td>13495</td>\n",
       "      <td>MSY</td>\n",
       "      <td>...</td>\n",
       "      <td>NaN</td>\n",
       "      <td>NaN</td>\n",
       "      <td>NaN</td>\n",
       "      <td>10.0</td>\n",
       "      <td>2019</td>\n",
       "      <td>11</td>\n",
       "      <td>11</td>\n",
       "      <td>LA</td>\n",
       "      <td>CO</td>\n",
       "      <td>medium</td>\n",
       "    </tr>\n",
       "    <tr>\n",
       "      <th>1</th>\n",
       "      <td>2019-11-11</td>\n",
       "      <td>WN</td>\n",
       "      <td>WN</td>\n",
       "      <td>WN</td>\n",
       "      <td>2149</td>\n",
       "      <td>WN</td>\n",
       "      <td>N420WN</td>\n",
       "      <td>2149</td>\n",
       "      <td>13495</td>\n",
       "      <td>MSY</td>\n",
       "      <td>...</td>\n",
       "      <td>NaN</td>\n",
       "      <td>NaN</td>\n",
       "      <td>NaN</td>\n",
       "      <td>10.0</td>\n",
       "      <td>2019</td>\n",
       "      <td>11</td>\n",
       "      <td>11</td>\n",
       "      <td>LA</td>\n",
       "      <td>MO</td>\n",
       "      <td>short</td>\n",
       "    </tr>\n",
       "  </tbody>\n",
       "</table>\n",
       "<p>2 rows × 49 columns</p>\n",
       "</div>"
      ],
      "text/plain": [
       "      fl_date mkt_unique_carrier branded_code_share mkt_carrier  \\\n",
       "0  2019-11-11                 WN                 WN          WN   \n",
       "1  2019-11-11                 WN                 WN          WN   \n",
       "\n",
       "   mkt_carrier_fl_num op_unique_carrier tail_num  op_carrier_fl_num  \\\n",
       "0                 410                WN   N7842A                410   \n",
       "1                2149                WN   N420WN               2149   \n",
       "\n",
       "   origin_airport_id origin  ... total_add_gtime  longest_add_gtime no_name  \\\n",
       "0              13495    MSY  ...             NaN                NaN     NaN   \n",
       "1              13495    MSY  ...             NaN                NaN     NaN   \n",
       "\n",
       "  total_delay  year  month  day  dep_state  arr_state     cat  \n",
       "0        10.0  2019     11   11         LA         CO  medium  \n",
       "1        10.0  2019     11   11         LA         MO   short  \n",
       "\n",
       "[2 rows x 49 columns]"
      ]
     },
     "execution_count": 133,
     "metadata": {},
     "output_type": "execute_result"
    }
   ],
   "source": [
    "df.head(2)"
   ]
  },
  {
   "cell_type": "code",
   "execution_count": 134,
   "metadata": {},
   "outputs": [],
   "source": [
    "categories = df['cat']"
   ]
  },
  {
   "cell_type": "markdown",
   "metadata": {},
   "source": [
    "#### Our percentages for our categories are as follows:\n",
    "    - Short Haul flights account for 57.51%\n",
    "    - Medium Haul flights account for 38.06%\n",
    "    - Long Haul flights account for 4.43%"
   ]
  },
  {
   "cell_type": "code",
   "execution_count": 137,
   "metadata": {},
   "outputs": [
    {
     "data": {
      "text/plain": [
       "short     57.508504\n",
       "medium    38.057360\n",
       "long       4.434136\n",
       "Name: cat, dtype: float64"
      ]
     },
     "execution_count": 137,
     "metadata": {},
     "output_type": "execute_result"
    }
   ],
   "source": [
    "categories.value_counts(normalize=True)*100"
   ]
  },
  {
   "cell_type": "code",
   "execution_count": null,
   "metadata": {},
   "outputs": [],
   "source": []
  }
 ],
 "metadata": {
  "kernelspec": {
   "display_name": "Python 3",
   "language": "python",
   "name": "python3"
  },
  "language_info": {
   "codemirror_mode": {
    "name": "ipython",
    "version": 3
   },
   "file_extension": ".py",
   "mimetype": "text/x-python",
   "name": "python",
   "nbconvert_exporter": "python",
   "pygments_lexer": "ipython3",
   "version": "3.8.5"
  }
 },
 "nbformat": 4,
 "nbformat_minor": 4
}
