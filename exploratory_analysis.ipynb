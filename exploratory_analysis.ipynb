{
 "cells": [
  {
   "cell_type": "markdown",
   "metadata": {},
   "source": [
    "## Exploratory Data Analysis\n",
    "\n",
    "Use this notebook to get familiar with the datasets we have. There is 10 questions we need to answer during the EDA.\n",
    "\n",
    "Create 1 slide with informative visualization for each question. Explore data using SQL and Python but use Tableau for final visualization.\n",
    "\n",
    "Don't limit your EDA to these 10 questions. Let's be creative :)."
   ]
  },
  {
   "cell_type": "code",
   "execution_count": null,
   "metadata": {},
   "outputs": [],
   "source": []
  },
  {
   "cell_type": "code",
   "execution_count": null,
   "metadata": {},
   "outputs": [],
   "source": []
  },
  {
   "cell_type": "markdown",
   "metadata": {},
   "source": [
    "#### **Task 1**: Test the hypothesis that the delay is from Normal distribution. and that **mean** of the delay is 0. Be careful about the outliers."
   ]
  },
  {
   "cell_type": "markdown",
   "metadata": {},
   "source": [
    "- **crs_dep_time**: CRS Departure Time (local time: hhmm)\n",
    "- **dep_delay**: Difference in minutes between scheduled and actual departure time. Early departures show negative numbers.\t\n",
    "- **origin**: Origin Airport\n",
    "- **dest**: Destination Airport"
   ]
  },
  {
   "cell_type": "code",
   "execution_count": null,
   "metadata": {},
   "outputs": [],
   "source": []
  },
  {
   "cell_type": "markdown",
   "metadata": {},
   "source": [
    "#### **Task 2**: Is average/median monthly delay different during the year? If yes, which are months with the biggest delays and what could be the reason?"
   ]
  },
  {
   "cell_type": "markdown",
   "metadata": {},
   "source": [
    "Yes - July/August and December are highest. This is because of wxx and increased demand/flight schedule leads to airports over capacity\n",
    "- **fl_date**: Flight Date (yyyy-mm-dd)\n",
    "- **dep_delay**: Difference in minutes between scheduled and actual departure time. Early departures show negative numbers.\n",
    "- **mkt_carrier_fl_num**: Flight Number `Count()`"
   ]
  },
  {
   "cell_type": "code",
   "execution_count": null,
   "metadata": {},
   "outputs": [],
   "source": []
  },
  {
   "cell_type": "markdown",
   "metadata": {},
   "source": [
    "#### **Task 3**: Does the weather affect the delay? \n",
    "Use the API to pull the weather information for flights. There is no need to get weather for ALL flights. We can choose the right representative sample. Let's focus on four weather types:\n",
    "- sunny\n",
    "- cloudy\n",
    "- rainy\n",
    "- snow.\n",
    "Test the hypothesis that these 4 delays are from the same distribution. If they are not, which ones are significantly different?"
   ]
  },
  {
   "cell_type": "markdown",
   "metadata": {},
   "source": [
    "YES\n",
    "- **fl_date**: Flight Date (yyyy-mm-dd)\n",
    "- **dep_delay**: Difference in minutes between scheduled and actual departure time. Early departures show negative numbers.\n",
    "- **mkt_carrier_fl_num**: Flight Number `Count()`\n",
    "- **crs_dep_time**: CRS Departure Time (local time: hhmm)\n",
    "- **carrier_delay**: Carrier Delay, in Minutes\n",
    "- **weather_delay**: Weather Delay, in Minutes\n",
    "- **nas_delay**: National Air System Delay, in Minutes\n",
    "- **late_aircraft_delay**: Late Aircraft Delay, in Minutes"
   ]
  },
  {
   "cell_type": "code",
   "execution_count": null,
   "metadata": {},
   "outputs": [],
   "source": []
  },
  {
   "cell_type": "markdown",
   "metadata": {},
   "source": [
    "#### **Task 4**: How taxi times changing during the day? Does higher traffic lead to bigger taxi times?"
   ]
  },
  {
   "cell_type": "markdown",
   "metadata": {},
   "source": [
    "- **dep_time**: Actual Departure Time (local time: hhmm)\n",
    "- **taxi_out**: Taxi Out Time, in Minutes\n",
    "- **taxi_in**: \tTaxi In Time, in Minutes\n",
    "- **arr_time**: Actual Arrival Time (local time: hhmm)\n",
    "- **total_add_gtime**: Total Ground Time Away from Gate for Gate Return or Cancelled Flight\n",
    "- **longest_add_gtime**: Longest Time Away from Gate for Gate Return or Cancelled Flight"
   ]
  },
  {
   "cell_type": "code",
   "execution_count": null,
   "metadata": {},
   "outputs": [],
   "source": []
  },
  {
   "cell_type": "markdown",
   "metadata": {},
   "source": [
    "#### **Task 5**: What is the average percentage of delays that is already created before departure? (aka are arrival delays caused by departure delays?) Are airlines able to lower the delay during the flights?"
   ]
  },
  {
   "cell_type": "markdown",
   "metadata": {},
   "source": [
    "- **arr_delay**: Difference in minutes between scheduled and actual arrival time. Early arrivals show negative numbers.\n",
    "- **dep_delay**: Difference in minutes between scheduled and actual departure time. Early departures show negative numbers.\t\n",
    "- **crs_elapsed_time**: CRS Elapsed Time of Flight, in Minutes\n",
    "- **actual_elapsed_time**: Elapsed Time of Flight, in Minutes\n"
   ]
  },
  {
   "cell_type": "code",
   "execution_count": null,
   "metadata": {},
   "outputs": [],
   "source": []
  },
  {
   "cell_type": "markdown",
   "metadata": {},
   "source": [
    "#### **Task 6**: How many states cover 50% of US air traffic? "
   ]
  },
  {
   "cell_type": "markdown",
   "metadata": {},
   "source": [
    "Minus city name `group by`\n",
    "- **origin_city_name**: Origin Airport, City Name\n",
    "- **mkt_carrier_fl_num**: Flight Number `count` / 2\n",
    "  \n",
    "Minus city name `group by`\n",
    "- **dest_city_name**: Destination Airport, City Name\n",
    "- **mkt_carrier_fl_num**: Flight Number `count` / 2\n",
    "\n",
    "Maybe we just have to look at dep or arr? "
   ]
  },
  {
   "cell_type": "code",
   "execution_count": null,
   "metadata": {},
   "outputs": [],
   "source": []
  },
  {
   "cell_type": "markdown",
   "metadata": {},
   "source": [
    "#### **Task 7**: Test the hypothesis whether planes fly faster when there is the departure delay? "
   ]
  },
  {
   "cell_type": "markdown",
   "metadata": {},
   "source": [
    "select 3(?) routes in each direction with most significant delays\n",
    "* long haul east-west and west-east\n",
    "* medium haul east-west and west-east\n",
    "* short haul east-west and west-east\n",
    "\n",
    "select 6 days on each route to compare (2 from min, 2 from mean, 2 from max)\n",
    "* **air_time**: Flight Time, in Minutes\n",
    "- **dep_delay**: Difference in minutes between scheduled and actual departure time. Early departures show negative numbers.\t\n",
    "- **arr_delay**: Difference in minutes between scheduled and actual arrival time. Early arrivals show negative numbers.\n",
    "    "
   ]
  },
  {
   "cell_type": "code",
   "execution_count": null,
   "metadata": {},
   "outputs": [],
   "source": []
  },
  {
   "cell_type": "markdown",
   "metadata": {},
   "source": [
    "#### **Task 8**: When (which hour) do most 'LONG', 'SHORT', 'MEDIUM' haul flights take off?"
   ]
  },
  {
   "cell_type": "markdown",
   "metadata": {},
   "source": [
    "Flights\n",
    "- **wheels_off**: Wheels Off Time (local time: hhmm) - lose the last two digits \n",
    "- **distance**: Distance between airports (miles) `group by`\n",
    "    - Short < 600 mi\n",
    "    - Med < 2000 mi\n",
    "    - Long > 2000 mi\n"
   ]
  },
  {
   "cell_type": "code",
   "execution_count": null,
   "metadata": {},
   "outputs": [],
   "source": []
  },
  {
   "cell_type": "markdown",
   "metadata": {},
   "source": [
    "#### **Task 9**: Find the top 10 the bussiest airports. Does the biggest number of flights mean that the biggest number of passengers went through the particular airport? How much traffic do these 10 airports cover?"
   ]
  },
  {
   "cell_type": "markdown",
   "metadata": {},
   "source": [
    "Flights\n",
    "- **origin**: Origin Airport\n",
    "- **dest**: Destination Airport\n",
    "- **mkt_carrier_fl_num**: Flight Number `count`\n",
    "\n",
    "Passengers\n",
    "- **origin**: Origin Airport\n",
    "- **passengers**: Non-Stop Segment Passengers Transported `sum`\n",
    "- **dest**: Destination Airport\n",
    "- **passengers**: Non-Stop Segment Passengers Transported `sum`\n",
    "- **freight**: Non-Stop Segment Freight Transported (pounds)\n",
    "- **mail**: Non-Stop Segment Mail Transported (pounds)\n",
    "- **seats**: Available Seats\n",
    "- market saturation?? **seats/passengers**\n",
    "- group by origin destination to find busiest routes?\n"
   ]
  },
  {
   "cell_type": "code",
   "execution_count": null,
   "metadata": {},
   "outputs": [],
   "source": []
  },
  {
   "cell_type": "markdown",
   "metadata": {},
   "source": [
    "#### **Task 10**: Do bigger delays lead to bigger fuel comsumption per passenger? \n",
    "We need to do four things to answer this as accurate as possible:\n",
    "- Find out average monthly delay per air carrier (monthly delay is sum of all delays in 1 month)\n",
    "- Find out distance covered monthly by different air carriers\n",
    "- Find out number of passengers that were carried by different air carriers\n",
    "- Find out total fuel comsumption per air carrier.\n",
    "\n",
    "Use this information to get the average fuel comsumption per passenger per km. Is this higher for the airlines with bigger average delays?"
   ]
  },
  {
   "cell_type": "markdown",
   "metadata": {},
   "source": [
    "### Find out average monthly delay per air carrier (monthly delay is sum of all delays in 1 month)\n",
    "`group by` \n",
    "- **fl_date**: Flight Date (yyyy-mm-dd)\n",
    "    - lose the dd\n",
    "- **mkt_unique_carrier** \n",
    "\n",
    "    - **total_delay**`mean`\n",
    "        - **carrier_delay**: Carrier Delay, in Minutes\n",
    "        - **weather_delay**: Weather Delay, in Minutes\n",
    "        - **nas_delay**: National Air System Delay, in Minutes\n",
    "        - **security_delay**: Security Delay, in Minutes\n",
    "        - **late_aircraft_delay**: Late Aircraft Delay, in Minutes\n",
    "        "
   ]
  },
  {
   "cell_type": "code",
   "execution_count": null,
   "metadata": {},
   "outputs": [],
   "source": []
  },
  {
   "cell_type": "markdown",
   "metadata": {},
   "source": [
    "### Find out distance covered monthly by different air carriers \n",
    "#### *Passengers*\n",
    "`group by` \n",
    "- **year**\n",
    "- **month**\n",
    "- **mkt_unique_carrier** \n",
    "  \n",
    "    - **distance**: Distance between airports (miles) `sum`"
   ]
  },
  {
   "cell_type": "code",
   "execution_count": null,
   "metadata": {},
   "outputs": [],
   "source": []
  },
  {
   "cell_type": "markdown",
   "metadata": {},
   "source": [
    "### Find out number of passengers that were carried by different air carriers\n",
    "#### *Passengers*\n",
    "`group by` \n",
    "- **year**\n",
    "- **mkt_unique_carrier** \n",
    "  \n",
    "- **passengers**: Non-Stop Segment Passengers Transported"
   ]
  },
  {
   "cell_type": "code",
   "execution_count": null,
   "metadata": {},
   "outputs": [],
   "source": []
  },
  {
   "cell_type": "markdown",
   "metadata": {},
   "source": [
    "### Find out total fuel comsumption per air carrier.\n",
    "#### *fuel_consumption*\n",
    "- **year**: year\n",
    "- **unique_carrier**: Unique Carrier Code. When the same code has been used by multiple carriers, a numeric suffix is used for earlier users, for example, PA, PA(1), PA(2). Use this field for analysis across a range of years.\n",
    "\n",
    "- **total_gallons**: Grand Total - Fuel Consumption (Gallons)"
   ]
  },
  {
   "cell_type": "code",
   "execution_count": null,
   "metadata": {},
   "outputs": [],
   "source": []
  }
 ],
 "metadata": {
  "kernelspec": {
   "display_name": "Python 3",
   "language": "python",
   "name": "python3"
  },
  "language_info": {
   "codemirror_mode": {
    "name": "ipython",
    "version": 3
   },
   "file_extension": ".py",
   "mimetype": "text/x-python",
   "name": "python",
   "nbconvert_exporter": "python",
   "pygments_lexer": "ipython3",
   "version": "3.8.3"
  },
  "toc": {
   "base_numbering": 1,
   "nav_menu": {},
   "number_sections": true,
   "sideBar": true,
   "skip_h1_title": false,
   "title_cell": "Table of Contents",
   "title_sidebar": "Contents",
   "toc_cell": false,
   "toc_position": {},
   "toc_section_display": true,
   "toc_window_display": false
  },
  "varInspector": {
   "cols": {
    "lenName": 16,
    "lenType": 16,
    "lenVar": 40
   },
   "kernels_config": {
    "python": {
     "delete_cmd_postfix": "",
     "delete_cmd_prefix": "del ",
     "library": "var_list.py",
     "varRefreshCmd": "print(var_dic_list())"
    },
    "r": {
     "delete_cmd_postfix": ") ",
     "delete_cmd_prefix": "rm(",
     "library": "var_list.r",
     "varRefreshCmd": "cat(var_dic_list()) "
    }
   },
   "types_to_exclude": [
    "module",
    "function",
    "builtin_function_or_method",
    "instance",
    "_Feature"
   ],
   "window_display": false
  }
 },
 "nbformat": 4,
 "nbformat_minor": 4
}
